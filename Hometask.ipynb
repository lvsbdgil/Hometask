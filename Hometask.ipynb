{
  "nbformat": 4,
  "nbformat_minor": 0,
  "metadata": {
    "colab": {
      "provenance": [],
      "include_colab_link": true
    },
    "kernelspec": {
      "name": "python3",
      "display_name": "Python 3"
    },
    "language_info": {
      "name": "python"
    }
  },
  "cells": [
    {
      "cell_type": "markdown",
      "metadata": {
        "id": "view-in-github",
        "colab_type": "text"
      },
      "source": [
        "<a href=\"https://colab.research.google.com/github/lvsbdgil/Hometask/blob/main/Hometask.ipynb\" target=\"_parent\"><img src=\"https://colab.research.google.com/assets/colab-badge.svg\" alt=\"Open In Colab\"/></a>"
      ]
    },
    {
      "cell_type": "markdown",
      "metadata": {
        "id": "V4njW26kU2d7"
      },
      "source": [
        "#Урок 11. Домашнее задание"
      ]
    },
    {
      "cell_type": "markdown",
      "metadata": {
        "id": "Fe4hOVsAkHRW"
      },
      "source": [
        "##Задание 1.\n",
        "Пользователь вводит строку из цифр и букв,  программа считает и выводит на экран, сколько раз в строке встретилась цифра 0.\n",
        "Указание: использовать find с поиском в части строки."
      ]
    },
    {
      "cell_type": "code",
      "source": [
        "a=input()\n",
        "b=0\n",
        "for i in a:\n",
        "  if i==\"0\":\n",
        "    b=b+1\n",
        "print(b)"
      ],
      "metadata": {
        "id": "e1asd0z7wMLs",
        "colab": {
          "base_uri": "https://localhost:8080/"
        },
        "outputId": "97926181-01be-4526-e6c5-bda3048e12e0"
      },
      "execution_count": null,
      "outputs": [
        {
          "output_type": "stream",
          "name": "stdout",
          "text": [
            "рорм0рмс0\n",
            "2\n"
          ]
        }
      ]
    },
    {
      "cell_type": "markdown",
      "metadata": {
        "id": "Ti-_oZ2o8Lnk"
      },
      "source": [
        "##Задание 2.\n",
        "Пользователь вводит строку из цифр и букв,  программа выводит на экран  ближайшую к началу строки цифру и номер ее первого вхождения в строку. Если цифр в строке нет, выводится текст \"Цифр нет\"\n",
        "\n",
        "**Указание:** использовать find."
      ]
    },
    {
      "cell_type": "code",
      "source": [
        "a=input()\n",
        "b=0\n",
        "for i in a:\n",
        "  b = b+1\n",
        "  if i.isdigit():\n",
        "    print(f\"цифра:{i} первое вхождение:{b}\")\n",
        "    break\n"
      ],
      "metadata": {
        "id": "kd7ekwYHwNeG",
        "colab": {
          "base_uri": "https://localhost:8080/"
        },
        "outputId": "c19f683b-d163-4382-e83f-6cd25be2bcdb"
      },
      "execution_count": null,
      "outputs": [
        {
          "output_type": "stream",
          "name": "stdout",
          "text": [
            "оар8ор8мро758\n",
            "цифра:8 первое вхождение:4\n"
          ]
        }
      ]
    },
    {
      "cell_type": "markdown",
      "metadata": {
        "id": "CwjIe2uskjQt"
      },
      "source": [
        "##Задание 3.\n",
        "Пользователь вводит текст с запятыми и точками, программа выводит тот же текст, удаляя, если есть, пробел перед запятой или точкой, и добавляя, если нужно, пробел после запятой или точки. Если в самом конце текста точка, то после нее пробел не пишется. Т.е. в тексте, выведенном программой, не должно быть пробелов перед знаками препинания, а после - один пробел."
      ]
    },
    {
      "cell_type": "code",
      "source": [
        "a=input()\n",
        "b=a.find(\" ,\")\n",
        "c=a.replace(\" ,\",\", \")\n",
        "d=c.replace(\" .\",\". \",(b-1))\n",
        "e=d.replace(\" .\",\".\")\n",
        "print(e)"
      ],
      "metadata": {
        "id": "KoWMqyXawPt_",
        "colab": {
          "base_uri": "https://localhost:8080/"
        },
        "outputId": "25a6e1db-419a-4185-ddd2-119394ada8b2"
      },
      "execution_count": null,
      "outputs": [
        {
          "output_type": "stream",
          "name": "stdout",
          "text": [
            "hkhj,  kll.Ajh.\n",
            "hkhj,  kll.Ajh.\n"
          ]
        }
      ]
    },
    {
      "cell_type": "markdown",
      "metadata": {
        "id": "B8xeIk0FnjPd"
      },
      "source": [
        "##Задание 4.\n",
        "Пользователь вводит текст из слов, состоящих из букв, слова разделены пробелами, может быть подряд несколько пробелов. Программа выводит на экран слова, каждое на отдельной строке\n",
        "\n",
        "Например, если введено 'слово текст   еще  текст' то выводится\n",
        "\n",
        "слово\n",
        "\n",
        "текст\n",
        "\n",
        "еще\n",
        "\n",
        "текст"
      ]
    },
    {
      "cell_type": "code",
      "source": [
        "a=input()\n",
        "b=a.split(sep=\" \")\n",
        "for i in b:\n",
        "  print(i)"
      ],
      "metadata": {
        "id": "9QPi4RRuwQ6W",
        "colab": {
          "base_uri": "https://localhost:8080/"
        },
        "outputId": "6857b25a-0a35-4ef9-b39a-c560316786a4"
      },
      "execution_count": null,
      "outputs": [
        {
          "output_type": "stream",
          "name": "stdout",
          "text": [
            "слово текст еще текст\n",
            "слово\n",
            "текст\n",
            "еще\n",
            "текст\n"
          ]
        }
      ]
    },
    {
      "cell_type": "markdown",
      "metadata": {
        "id": "DOQW2V8tma_O"
      },
      "source": [
        "##Задание 5.\n",
        "Пользователь вводит строку из букв и цифр, программа выводит количество цифр и букв.\n",
        "\n",
        "Например, если введено '12nhfd5634', то программа выводит 'Цифр 6, букв 4.'."
      ]
    },
    {
      "cell_type": "code",
      "source": [
        "a=input()\n",
        "b=0\n",
        "c=0\n",
        "for i in a:\n",
        "  if i.isdigit():\n",
        "    b=b+1\n",
        "  elif i.isalpha:\n",
        "    c=c+1\n",
        "print(f\"цифр {b}, букв {c}.\")"
      ],
      "metadata": {
        "id": "ZhlFhFJYwSXu",
        "colab": {
          "base_uri": "https://localhost:8080/"
        },
        "outputId": "96f252eb-ae3b-48cc-e6e0-2af490d3de39"
      },
      "execution_count": null,
      "outputs": [
        {
          "output_type": "stream",
          "name": "stdout",
          "text": [
            "7986напр8987апс\n",
            "цифр 8, букв 7.\n"
          ]
        }
      ]
    }
  ]
}